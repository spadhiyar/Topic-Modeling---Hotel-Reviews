{
 "cells": [
  {
   "cell_type": "markdown",
   "metadata": {
    "collapsed": true
   },
   "source": [
    "# Business Impact \n",
    "\n",
    "Summarizing and categorizing reviews by their subject matter can save hundreds of reading hours. Instead, one can train a model on historical reviews and extract main topics mentioned. Then these topics can be used to quickly filter reviews and flag the ones requiring action. For example, the output of these insights can be used to address concerns about concierge service or to develop an approach for reaching out to unhappy customers. New incoming reviews can be automatically processed by the model, tagged with a topic, and passed along to appropriate channels for action. This also enables addressing issues quickly, and potentially retaining customers who otherwise would have churned."
   ]
  },
  {
   "cell_type": "markdown",
   "metadata": {},
   "source": [
    "# Method: \n",
    "\n",
    "We will use a technique called topic modeling, more specifically Latent Dirichlet Allocation LDA. LDA is one of the most widely used techniques for topic modeling. It is a generative probability model, meaning there is an assumed underlying probability distribution which generates the set of documents on hand. This makes it an appealing modeling option, as the generative model allows for scoring unseen documents.\n",
    "\n"
   ]
  },
  {
   "cell_type": "code",
   "execution_count": null,
   "metadata": {
    "collapsed": true
   },
   "outputs": [],
   "source": [
    "import pandas as pd\n",
    "import numpy as np\n",
    "import spacy\n",
    "import re\n",
    "import gensim\n",
    "from gensim import corpora\n",
    "from gensim.models import CoherenceModel, LdaModel, LsiModel, HdpModel\n",
    "from nltk import FreqDist\n",
    "\n",
    "# libraries for visualization\n",
    "import pyLDAvis\n",
    "import pyLDAvis.gensim\n",
    "import matplotlib.pyplot as plt\n",
    "import seaborn as sns\n",
    "%matplotlib inline"
   ]
  },
  {
   "cell_type": "code",
   "execution_count": 336,
   "metadata": {
    "collapsed": true
   },
   "outputs": [],
   "source": [
    "df = pd.read_csv('central-bookingcom-review.csv',header=None)"
   ]
  },
  {
   "cell_type": "code",
   "execution_count": 337,
   "metadata": {
    "collapsed": true
   },
   "outputs": [],
   "source": [
    "rev=list([])\n",
    "for data in df[1]:\n",
    "    regex = re.compile('[^a-zA-Z ]')\n",
    "    review=regex.sub('', str(data))\n",
    "    rev.append(review)\n",
    "df_rev=pd.DataFrame(rev,columns={'cust_review'})"
   ]
  },
  {
   "cell_type": "code",
   "execution_count": 338,
   "metadata": {},
   "outputs": [
    {
     "data": {
      "text/html": [
       "<div>\n",
       "<style>\n",
       "    .dataframe thead tr:only-child th {\n",
       "        text-align: right;\n",
       "    }\n",
       "\n",
       "    .dataframe thead th {\n",
       "        text-align: left;\n",
       "    }\n",
       "\n",
       "    .dataframe tbody tr th {\n",
       "        vertical-align: top;\n",
       "    }\n",
       "</style>\n",
       "<table border=\"1\" class=\"dataframe\">\n",
       "  <thead>\n",
       "    <tr style=\"text-align: right;\">\n",
       "      <th></th>\n",
       "      <th>cust_review</th>\n",
       "    </tr>\n",
       "  </thead>\n",
       "  <tbody>\n",
       "    <tr>\n",
       "      <th>0</th>\n",
       "      <td>they let me check in at  am and check out late...</td>\n",
       "    </tr>\n",
       "    <tr>\n",
       "      <th>1</th>\n",
       "      <td>everything was worth the money</td>\n",
       "    </tr>\n",
       "    <tr>\n",
       "      <th>2</th>\n",
       "      <td>restroom has mole in shower so does the curtin...</td>\n",
       "    </tr>\n",
       "    <tr>\n",
       "      <th>3</th>\n",
       "      <td>Cheap</td>\n",
       "    </tr>\n",
       "    <tr>\n",
       "      <th>4</th>\n",
       "      <td>Dirty</td>\n",
       "    </tr>\n",
       "    <tr>\n",
       "      <th>5</th>\n",
       "      <td>this is actaul a nice hotel for the price the ...</td>\n",
       "    </tr>\n",
       "    <tr>\n",
       "      <th>6</th>\n",
       "      <td>the work of the one maid could have been bette...</td>\n",
       "    </tr>\n",
       "    <tr>\n",
       "      <th>7</th>\n",
       "      <td>I didnt like it</td>\n",
       "    </tr>\n",
       "    <tr>\n",
       "      <th>8</th>\n",
       "      <td>We both needed id</td>\n",
       "    </tr>\n",
       "    <tr>\n",
       "      <th>9</th>\n",
       "      <td>Price</td>\n",
       "    </tr>\n",
       "    <tr>\n",
       "      <th>10</th>\n",
       "      <td>Room is quite comfortable nice bathroom area</td>\n",
       "    </tr>\n",
       "    <tr>\n",
       "      <th>11</th>\n",
       "      <td>Location is not too safe someone try to break ...</td>\n",
       "    </tr>\n",
       "    <tr>\n",
       "      <th>12</th>\n",
       "      <td>It was reasonably clean Fridge and microwave p...</td>\n",
       "    </tr>\n",
       "    <tr>\n",
       "      <th>13</th>\n",
       "      <td>Cheap ish but certainly not cheerful Decor and...</td>\n",
       "    </tr>\n",
       "    <tr>\n",
       "      <th>14</th>\n",
       "      <td>Good service from the attendant Also really qu...</td>\n",
       "    </tr>\n",
       "    <tr>\n",
       "      <th>15</th>\n",
       "      <td>The beds are so squeaky and the window panels ...</td>\n",
       "    </tr>\n",
       "    <tr>\n",
       "      <th>16</th>\n",
       "      <td>Nothing at all but the price</td>\n",
       "    </tr>\n",
       "    <tr>\n",
       "      <th>17</th>\n",
       "      <td>Everything the bed was hard and uncomfortable</td>\n",
       "    </tr>\n",
       "    <tr>\n",
       "      <th>18</th>\n",
       "      <td>I had bite marks seems to be bed bugs me and m...</td>\n",
       "    </tr>\n",
       "    <tr>\n",
       "      <th>19</th>\n",
       "      <td>Really dirty</td>\n",
       "    </tr>\n",
       "  </tbody>\n",
       "</table>\n",
       "</div>"
      ],
      "text/plain": [
       "                                          cust_review\n",
       "0   they let me check in at  am and check out late...\n",
       "1                      everything was worth the money\n",
       "2   restroom has mole in shower so does the curtin...\n",
       "3                                               Cheap\n",
       "4                                              Dirty \n",
       "5   this is actaul a nice hotel for the price the ...\n",
       "6   the work of the one maid could have been bette...\n",
       "7                                     I didnt like it\n",
       "8                                   We both needed id\n",
       "9                                               Price\n",
       "10       Room is quite comfortable nice bathroom area\n",
       "11  Location is not too safe someone try to break ...\n",
       "12  It was reasonably clean Fridge and microwave p...\n",
       "13  Cheap ish but certainly not cheerful Decor and...\n",
       "14  Good service from the attendant Also really qu...\n",
       "15  The beds are so squeaky and the window panels ...\n",
       "16                       Nothing at all but the price\n",
       "17      Everything the bed was hard and uncomfortable\n",
       "18  I had bite marks seems to be bed bugs me and m...\n",
       "19                                       Really dirty"
      ]
     },
     "execution_count": 338,
     "metadata": {},
     "output_type": "execute_result"
    }
   ],
   "source": [
    "df_rev.head(20)"
   ]
  },
  {
   "cell_type": "markdown",
   "metadata": {},
   "source": [
    "# function to plot most frequent terms"
   ]
  },
  {
   "cell_type": "code",
   "execution_count": 297,
   "metadata": {
    "collapsed": true
   },
   "outputs": [],
   "source": [
    "\n",
    "def freq_words(x, terms = 35):\n",
    "  all_words = ' '.join([text for text in x])\n",
    "  all_words = all_words.split()\n",
    "\n",
    "  fdist = FreqDist(all_words)\n",
    "  words_df = pd.DataFrame({'word':list(fdist.keys()), 'count':list(fdist.values())})\n",
    "\n",
    "  # selecting top 20 most frequent words\n",
    "  d = words_df.nlargest(columns=\"count\", n = terms) \n",
    "  plt.figure(figsize=(20,5))\n",
    "  ax = sns.barplot(data=d, x= \"word\", y = \"count\")\n",
    "  ax.set(ylabel = 'Count')\n",
    "  plt.show()"
   ]
  },
  {
   "cell_type": "code",
   "execution_count": 298,
   "metadata": {},
   "outputs": [
    {
     "data": {
      "image/png": "[encoded data removed]",
      "text/plain": [
       "<matplotlib.figure.Figure at 0x1a233733c8>"
      ]
     },
     "metadata": {},
     "output_type": "display_data"
    }
   ],
   "source": [
    "freq_words(df_rev['cust_review'])"
   ]
  },
  {
   "cell_type": "markdown",
   "metadata": {},
   "source": [
    "Most common words are ‘the’, ‘and’, ‘was’, 'I','to, so on and so forth. These words are not so important for our task and they do not tell any story. We’ need to get rid of these kinds of words. "
   ]
  },
  {
   "cell_type": "markdown",
   "metadata": {},
   "source": [
    "# Preprocessing Task :"
   ]
  },
  {
   "cell_type": "markdown",
   "metadata": {},
   "source": [
    "- Let’s try to remove the stopwords and short words (<2 letters) from the reviews"
   ]
  },
  {
   "cell_type": "code",
   "execution_count": 299,
   "metadata": {
    "collapsed": true
   },
   "outputs": [],
   "source": [
    "from nltk.corpus import stopwords\n",
    "stop_words = stopwords.words('english')"
   ]
  },
  {
   "cell_type": "code",
   "execution_count": 300,
   "metadata": {
    "collapsed": true
   },
   "outputs": [],
   "source": [
    "# Function to remove stop words\n",
    "\n",
    "def remove_stopword(reve):\n",
    "    review_new = ' '.join([i for i in reve if i not in stop_words])\n",
    "    return review_new\n",
    "\n",
    "# removing short words (<3)\n",
    "\n",
    "df_rev['cust_review'] = df_rev['cust_review'].apply(lambda x: ' '.join([i for i in x.split() if len(i)>2]))\n",
    "\n",
    "#removing stop words\n",
    "\n",
    "#reviews = [remove_stopword(r.split()) for r in reviews['customer_reviews']]\n",
    "reviews = [remove_stopword(r.split()) for r in df_rev['cust_review']]\n",
    "\n",
    "# convert entire text in to lower case\n",
    "\n",
    "reviews = [r.lower() for r in reviews]"
   ]
  },
  {
   "cell_type": "code",
   "execution_count": 301,
   "metadata": {},
   "outputs": [
    {
     "data": {
      "text/plain": [
       "172"
      ]
     },
     "execution_count": 301,
     "metadata": {},
     "output_type": "execute_result"
    }
   ],
   "source": [
    "len(reviews)"
   ]
  },
  {
   "cell_type": "code",
   "execution_count": 302,
   "metadata": {},
   "outputs": [
    {
     "data": {
      "image/png": "[encoded data removed]",
      "text/plain": [
       "<matplotlib.figure.Figure at 0x1a1f708898>"
      ]
     },
     "metadata": {},
     "output_type": "display_data"
    }
   ],
   "source": [
    "freq_words(reviews, 35)"
   ]
  },
  {
   "cell_type": "code",
   "execution_count": 303,
   "metadata": {
    "collapsed": true
   },
   "outputs": [],
   "source": [
    "import en_core_web_sm\n",
    "\n",
    "nlp = en_core_web_sm.load()"
   ]
  },
  {
   "cell_type": "code",
   "execution_count": 304,
   "metadata": {
    "collapsed": true
   },
   "outputs": [],
   "source": [
    "def lemmatization(texts, tags=['NOUN', 'ADJ']): # filter noun and adjective\n",
    "       output = []\n",
    "       for sent in texts:\n",
    "             doc = nlp(\" \".join(sent)) \n",
    "             output.append([token.lemma_ for token in doc if token.pos_ in tags ])\n",
    "       return output"
   ]
  },
  {
   "cell_type": "markdown",
   "metadata": {},
   "source": [
    "Let’s tokenize the reviews and then lemmatize the tokenized reviews."
   ]
  },
  {
   "cell_type": "code",
   "execution_count": 305,
   "metadata": {},
   "outputs": [
    {
     "name": "stdout",
     "output_type": "stream",
     "text": [
      "['actaul', 'nice', 'hotel', 'price', 'manager', 'staff', 'helpful', 'friendly', 'great', 'job', 'even', 'environment', 'keep', 'hotel', 'surroundings', 'calm', 'clean', 'possible', 'case', 'problems', 'police', 'came', 'assist', 'unfortunate', 'maid', 'one', 'best', 'room', 'never', 'done', 'end', 'morning', 'made', 'bed', 'good', 'managemend', 'maid', 'upper', 'floor', 'work', 'mate', 'often', 'helped', 'big', 'thank', 'small', 'table', 'eat', 'write', 'two', 'chairs', 'would', 'helpful', 'also', 'hangers', 'cloths', 'hotel', 'region', 'absolute', 'dont', 'recommend', 'women', 'travelling', 'alone', 'either', 'families', 'children', 'persons', 'without', 'car', 'day', 'problems', 'never', 'would', 'gone', 'hotel', 'dark', 'fights', 'able', 'watch', 'window', 'right', 'street', 'police', 'present', 'often', 'night', 'several', 'nights', 'police', 'helicopter', 'hours', 'night', 'police', 'present', 'environment', 'mexican', 'black', 'neighborhood', 'one', 'white', 'people', 'walk', 'around', 'night', 'however', 'inside', 'hotel', 'felt', 'safe', 'problems', 'around', 'never', 'concern', 'aside', 'loud', 'outside', 'times']\n"
     ]
    }
   ],
   "source": [
    "tokenized_reviews = pd.Series(reviews).apply(lambda x: x.split())\n",
    "print(tokenized_reviews[5])"
   ]
  },
  {
   "cell_type": "code",
   "execution_count": 306,
   "metadata": {},
   "outputs": [
    {
     "data": {
      "text/plain": [
       "172"
      ]
     },
     "execution_count": 306,
     "metadata": {},
     "output_type": "execute_result"
    }
   ],
   "source": [
    "len(tokenized_reviews)"
   ]
  },
  {
   "cell_type": "code",
   "execution_count": 307,
   "metadata": {},
   "outputs": [
    {
     "name": "stdout",
     "output_type": "stream",
     "text": [
      "['actaul', 'nice', 'hotel', 'price', 'manager', 'staff', 'helpful', 'friendly', 'great', 'job', 'environment', 'hotel', 'surrounding', 'calm', 'clean', 'possible', 'case', 'problem', 'police', 'unfortunate', 'good', 'room', 'end', 'morning', 'bed', 'good', 'managemend', 'upper', 'floor', 'work', 'mate', 'big', 'small', 'table', 'chair', 'hanger', 'cloth', 'hotel', 'region', 'absolute', 'woman', 'family', 'child', 'person', 'car', 'day', 'problem', 'hotel', 'dark', 'fight', 'able', 'window', 'right', 'street', 'police', 'present', 'night', 'several', 'night', 'police', 'helicopter', 'hour', 'night', 'police', 'present', 'environment', 'mexican', 'black', 'neighborhood', 'white', 'people', 'night', 'hotel', 'safe', 'problem', 'concern', 'loud', 'outside', 'time']\n"
     ]
    }
   ],
   "source": [
    "reviews_2 = lemmatization(tokenized_reviews)\n",
    "print(reviews_2[5]) # print lemmatized review"
   ]
  },
  {
   "cell_type": "code",
   "execution_count": 308,
   "metadata": {},
   "outputs": [
    {
     "data": {
      "text/plain": [
       "172"
      ]
     },
     "execution_count": 308,
     "metadata": {},
     "output_type": "execute_result"
    }
   ],
   "source": [
    "len(reviews_2)"
   ]
  },
  {
   "cell_type": "markdown",
   "metadata": {},
   "source": [
    "# Create Biagram & Trigram Models"
   ]
  },
  {
   "cell_type": "code",
   "execution_count": 309,
   "metadata": {
    "collapsed": true
   },
   "outputs": [],
   "source": [
    "from gensim.models import Phrases\n",
    "\n",
    "# Add bigrams and trigrams to reviews_2, minimum count 5 means only that appear 5 times or more.\n",
    "\n",
    "bigram = Phrases(reviews_2, min_count=5)\n",
    "trigram = Phrases(bigram[reviews_2])\n",
    "\n",
    "for idx in range(len(reviews_2)):\n",
    "    for token in bigram[reviews_2[idx]]:\n",
    "        if '_' in token:\n",
    "            # Token is a bigram, add to document.\n",
    "            reviews_2[idx].append(token)\n",
    "    for token in trigram[reviews_2[idx]]:\n",
    "        if '_' in token:\n",
    "            # Token is a bigram, add to document.\n",
    "            reviews_2[idx].append(token)"
   ]
  },
  {
   "cell_type": "markdown",
   "metadata": {},
   "source": [
    "As you can see, we have not just lemmatized the words but also filtered only nouns and adjectives. Let’s de-tokenize the lemmatized reviews and plot the most common words."
   ]
  },
  {
   "cell_type": "code",
   "execution_count": 310,
   "metadata": {},
   "outputs": [
    {
     "data": {
      "image/png": "[encoded data removed]",
      "text/plain": [
       "<matplotlib.figure.Figure at 0x1a1f666c50>"
      ]
     },
     "metadata": {},
     "output_type": "display_data"
    }
   ],
   "source": [
    "reviews_3 = []\n",
    "for i in range(len(reviews_2)):\n",
    "    reviews_3.append(' '.join(reviews_2[i]))\n",
    "\n",
    "df_rev['reviews'] = reviews_3\n",
    "\n",
    "freq_words(df_rev['reviews'], 35)"
   ]
  },
  {
   "cell_type": "markdown",
   "metadata": {
    "collapsed": true
   },
   "source": [
    "It seems that now most frequent terms in our data are relevant. We can now go ahead and start building our topic model."
   ]
  },
  {
   "cell_type": "markdown",
   "metadata": {},
   "source": [
    "# Building LDA model"
   ]
  },
  {
   "cell_type": "markdown",
   "metadata": {},
   "source": [
    "We will start by creating the term dictionary of our corpus, where every unique term is assigned an index & then we will Remove rare & common tokens "
   ]
  },
  {
   "cell_type": "code",
   "execution_count": 312,
   "metadata": {},
   "outputs": [
    {
     "name": "stdout",
     "output_type": "stream",
     "text": [
      "size of dictionary before filter: 572\n"
     ]
    }
   ],
   "source": [
    "dictionary = corpora.Dictionary(reviews_2)\n",
    "\n",
    "print('size of dictionary before filter: %d' % len(dictionary))"
   ]
  },
  {
   "cell_type": "code",
   "execution_count": 313,
   "metadata": {},
   "outputs": [
    {
     "name": "stdout",
     "output_type": "stream",
     "text": [
      "size of dictionary after filter: 200\n"
     ]
    }
   ],
   "source": [
    "dictionary.filter_extremes(no_below=2, no_above=0.2)\n",
    "\n",
    "print('size of dictionary after filter: %d' % len(dictionary))"
   ]
  },
  {
   "cell_type": "markdown",
   "metadata": {},
   "source": [
    "Then we will convert the list of reviews (reviews_2) into a Document Term Matrix using the dictionary prepared above."
   ]
  },
  {
   "cell_type": "code",
   "execution_count": 314,
   "metadata": {
    "collapsed": true
   },
   "outputs": [],
   "source": [
    "doc_term_matrix = [dictionary.doc2bow(rev) for rev in reviews_2]"
   ]
  },
  {
   "cell_type": "code",
   "execution_count": 315,
   "metadata": {},
   "outputs": [
    {
     "data": {
      "text/plain": [
       "172"
      ]
     },
     "execution_count": 315,
     "metadata": {},
     "output_type": "execute_result"
    }
   ],
   "source": [
    "len(doc_term_matrix)"
   ]
  },
  {
   "cell_type": "markdown",
   "metadata": {},
   "source": [
    "# Training the Model"
   ]
  },
  {
   "cell_type": "code",
   "execution_count": 316,
   "metadata": {
    "collapsed": true
   },
   "outputs": [],
   "source": [
    "# Creating the object for LDA model using gensim library\n",
    "\n",
    "LDA = gensim.models.ldamodel.LdaModel\n",
    "\n",
    "# Build LDA model\n",
    "lda_model = LDA(corpus=doc_term_matrix, id2word=dictionary, num_topics=2,random_state=0,\n",
    "                chunksize=160, passes=50)"
   ]
  },
  {
   "cell_type": "code",
   "execution_count": 317,
   "metadata": {},
   "outputs": [
    {
     "data": {
      "text/plain": [
       "[(0,\n",
       "  '0.033*\"hotel\" + 0.031*\"clean\" + 0.029*\"staff\" + 0.028*\"great\" + 0.027*\"everything\" + 0.022*\"cheap\" + 0.022*\"place\" + 0.019*\"motel\" + 0.017*\"day\" + 0.016*\"mess\"'),\n",
       " (1,\n",
       "  '0.072*\"bed\" + 0.054*\"dirty\" + 0.051*\"roach\" + 0.041*\"nothing\" + 0.040*\"floor\" + 0.036*\"place\" + 0.030*\"door\" + 0.025*\"first\" + 0.025*\"disgusting\" + 0.025*\"picture\"')]"
      ]
     },
     "execution_count": 317,
     "metadata": {},
     "output_type": "execute_result"
    }
   ],
   "source": [
    "lda_model.print_topics()"
   ]
  },
  {
   "cell_type": "code",
   "execution_count": 318,
   "metadata": {
    "collapsed": true
   },
   "outputs": [],
   "source": [
    "\n",
    "ldatopics=lda_model.show_topics(formatted=False)"
   ]
  },
  {
   "cell_type": "code",
   "execution_count": 319,
   "metadata": {
    "collapsed": true
   },
   "outputs": [],
   "source": [
    "ldatopics = [[word for word, prob in topic] for topicid, topic in ldatopics]"
   ]
  },
  {
   "cell_type": "code",
   "execution_count": 320,
   "metadata": {
    "collapsed": true
   },
   "outputs": [],
   "source": [
    "lda_coherence = CoherenceModel(topics=ldatopics, texts=reviews_2, dictionary=dictionary, window_size=10, coherence='c_v').get_coherence()"
   ]
  },
  {
   "cell_type": "code",
   "execution_count": 321,
   "metadata": {},
   "outputs": [
    {
     "data": {
      "text/plain": [
       "0.3967555016525663"
      ]
     },
     "execution_count": 321,
     "metadata": {},
     "output_type": "execute_result"
    }
   ],
   "source": [
    "lda_coherence"
   ]
  },
  {
   "cell_type": "markdown",
   "metadata": {},
   "source": [
    "# Finding out the optimal number of topics"
   ]
  },
  {
   "cell_type": "markdown",
   "metadata": {},
   "source": [
    "Topic coherence in essence measures the human interpretability of a topic model. Traditionally perplexity has been used to evaluate topic models however this does not correlate with human annotations at times. Topic coherence is another way to evaluate topic models with a much higher guarantee on human interpretability. Thus this can be used to compare different topic models among many other use-cases."
   ]
  },
  {
   "cell_type": "code",
   "execution_count": 322,
   "metadata": {
    "collapsed": true
   },
   "outputs": [],
   "source": [
    "from gensim.models import CoherenceModel, LdaModel, LsiModel, HdpModel\n",
    "\n",
    "def evaluate_graph(dictionary, corpus, texts, limit):\n",
    "    \"\"\"\n",
    "    Function to display num_topics - LDA graph using c_v coherence\n",
    "    \n",
    "    Parameters:\n",
    "    ----------\n",
    "    dictionary : Gensim dictionary\n",
    "    corpus : Gensim corpus\n",
    "    limit : topic limit\n",
    "    \n",
    "    Returns:\n",
    "    -------\n",
    "    lm_list : List of LDA topic models\n",
    "    c_v : Coherence values corresponding to the LDA model with respective number of topics\n",
    "    \"\"\"\n",
    "    c_v = []\n",
    "    lm_list = []\n",
    "    for num_topics in range(1, limit):\n",
    "        lm = LDA(corpus=corpus, num_topics=num_topics, id2word=dictionary, random_state=0)\n",
    "        lm_list.append(lm)\n",
    "        cm = CoherenceModel(model=lm, texts=texts, dictionary=dictionary, coherence='c_v')\n",
    "        c_v.append(cm.get_coherence())\n",
    "        \n",
    "    # Show graph\n",
    "    x = range(1, limit)\n",
    "    plt.plot(x, c_v)\n",
    "    plt.xlabel(\"num_topics\")\n",
    "    plt.ylabel(\"Coherence score\")\n",
    "    plt.legend((\"c_v\"), loc='best')\n",
    "    plt.show()\n",
    "    \n",
    "    return lm_list, c_v"
   ]
  },
  {
   "cell_type": "code",
   "execution_count": 323,
   "metadata": {},
   "outputs": [
    {
     "data": {
      "image/png": "[encoded data removed]",
      "text/plain": [
       "<matplotlib.figure.Figure at 0x1a28734e10>"
      ]
     },
     "metadata": {},
     "output_type": "display_data"
    },
    {
     "name": "stdout",
     "output_type": "stream",
     "text": [
      "CPU times: user 3.96 s, sys: 404 ms, total: 4.37 s\n",
      "Wall time: 4.57 s\n"
     ]
    }
   ],
   "source": [
    "%%time\n",
    "lmlist, c_v = evaluate_graph(dictionary=dictionary, corpus=doc_term_matrix, texts=reviews_2, limit=10)"
   ]
  },
  {
   "cell_type": "markdown",
   "metadata": {},
   "source": [
    "# Topic coherence is a metric of topic quality, found to be correlated with human judgement. Higher topic coherence is better. We see that in this case, K = 2 has the highest coherence.\n",
    "\n",
    "# For this reason we have trained our model choosing number of topic= 2 "
   ]
  },
  {
   "cell_type": "markdown",
   "metadata": {},
   "source": [
    "# Topics Visualization"
   ]
  },
  {
   "cell_type": "markdown",
   "metadata": {},
   "source": [
    "To visualize our topics in a 2-dimensional space we will use the pyLDAvis library. This visualization is interactive in nature and displays topics along with the most relevant words."
   ]
  },
  {
   "cell_type": "markdown",
   "metadata": {},
   "source": [
    "pyLDAvis can be used to calculate term relevancy, with parameter  λ  controlling the order of terms for a selected topic. For example, topic 1 can be characterized by terms such as honeymoon, amazing, perfect. Decreasing  λ  brings up other positive terms such as romantic, incredible, etc. For brevity, we can assign label Happy Honeymooners to this topics. Similarly, other topics can also be assigned a label based on what terms customers tend to mention. Looks like historical reviews fall into one of the 2 main topics:\n",
    "\n",
    "1. Happy customers\n",
    "2. Customer complaints"
   ]
  },
  {
   "cell_type": "code",
   "execution_count": 324,
   "metadata": {},
   "outputs": [
    {
     "data": {
      "text/html": [
       "\n",
       "<link rel=\"stylesheet\" type=\"text/css\" href=\"https://cdn.rawgit.com/bmabey/pyLDAvis/files/ldavis.v1.0.0.css\">\n",
       "\n",
       "\n",
       "<div id=\"ldavis_el151451123423002565703978373\"></div>\n",
       "<script type=\"text/javascript\">\n",
       "\n",
       "var ldavis_el151451123423002565703978373_data = {\"mdsDat\": {\"Freq\": [71.55064936904284, 28.44935063095716], \"cluster\": [1, 1], \"topics\": [1, 2], \"x\": [0.1802655905485153, -0.1802655905485153], \"y\": [0.0, 0.0]}, \"tinfo\": {\"Category\": [\"Default\", \"Default\", \"Default\", \"Default\", \"Default\", \"Default\", \"Default\", \"Default\", \"Default\", \"Default\", \"Default\", \"Default\", \"Default\", \"Default\", \"Default\", \"Default\", \"Default\", \"Default\", \"Default\", \"Default\", \"Default\", \"Default\", \"Default\", \"Default\", \"Default\", \"Default\", \"Default\", \"Default\", \"Default\", \"Default\", \"Topic1\", \"Topic1\", \"Topic1\", \"Topic1\", \"Topic1\", \"Topic1\", \"Topic1\", \"Topic1\", \"Topic1\", \"Topic1\", \"Topic1\", \"Topic1\", \"Topic1\", \"Topic1\", \"Topic1\", \"Topic1\", \"Topic1\", \"Topic1\", \"Topic1\", \"Topic1\", \"Topic1\", \"Topic1\", \"Topic1\", \"Topic1\", \"Topic1\", \"Topic1\", \"Topic1\", \"Topic1\", \"Topic1\", \"Topic1\", \"Topic1\", \"Topic1\", \"Topic1\", \"Topic1\", \"Topic1\", \"Topic2\", \"Topic2\", \"Topic2\", \"Topic2\", \"Topic2\", \"Topic2\", \"Topic2\", \"Topic2\", \"Topic2\", \"Topic2\", \"Topic2\", \"Topic2\", \"Topic2\", \"Topic2\", \"Topic2\", \"Topic2\", \"Topic2\", \"Topic2\", \"Topic2\", \"Topic2\", \"Topic2\", \"Topic2\", \"Topic2\", \"Topic2\", \"Topic2\", \"Topic2\", \"Topic2\", \"Topic2\", \"Topic2\", \"Topic2\", \"Topic2\", \"Topic2\", \"Topic2\", \"Topic2\", \"Topic2\", \"Topic2\", \"Topic2\", \"Topic2\", \"Topic2\", \"Topic2\", \"Topic2\"], \"Freq\": [21.0, 16.0, 15.0, 12.0, 16.0, 9.0, 7.0, 7.0, 8.0, 7.0, 7.0, 25.0, 23.0, 22.0, 5.0, 20.0, 20.0, 8.0, 19.0, 4.0, 4.0, 4.0, 4.0, 5.0, 6.0, 4.0, 4.0, 4.0, 5.0, 4.0, 22.23023562444083, 23.261570865355193, 20.565531720014917, 19.87402188035248, 19.133900707924827, 15.69688547016979, 13.193503734988566, 11.122311844805402, 11.759918052896998, 9.03567316501003, 10.31803130947553, 8.315056343619448, 7.630945002699904, 7.574646668781282, 6.9296333598107, 6.90294953364972, 7.493867317244306, 11.542534133389546, 6.213438036372002, 5.557063952433463, 5.554066438856385, 5.5351761479958075, 4.870590001750794, 4.869680822136025, 5.469713230624089, 4.851052896426289, 4.827183953876101, 4.8210615489374895, 4.809966116782866, 4.171223765024198, 4.747203939293012, 11.19168079366619, 15.561294630852755, 6.377163816038655, 5.123668815828197, 14.282978864264253, 15.292441953698262, 20.373922584250884, 11.287358241692369, 7.037128499174337, 8.379372724715678, 7.018081072669862, 6.624243773454974, 6.741482425315577, 3.7215218458291943, 3.7199411378005895, 3.905806407631443, 3.52296671087922, 3.520539871522387, 3.5187092179832673, 3.702286039339952, 3.5110072128518786, 3.5110072128518786, 3.8850780317936193, 3.507531391652494, 3.5061943147215073, 3.6939596966333506, 3.8818147958284417, 3.879758928229321, 7.180172577942668, 4.795017291649649, 3.445595420347926, 3.982177653020139, 3.606254343194675, 3.9232149808885515, 11.698868530204436, 10.294720957825161, 5.088488050265316, 4.178837674799334, 3.997439062791654, 4.332279749905631, 3.7951602659360795, 3.787926579761235, 3.74639116102491, 4.092831687731624, 3.707611194216611], \"Term\": [\"bed\", \"dirty\", \"roach\", \"floor\", \"nothing\", \"door\", \"disgusting\", \"picture\", \"first\", \"sure\", \"filthy\", \"place\", \"hotel\", \"clean\", \"toilet\", \"staff\", \"great\", \"bathroom\", \"everything\", \"bug\", \"last\", \"horrible\", \"trash\", \"much\", \"thing\", \"mattress\", \"uncomfortable\", \"second\", \"street\", \"mistake\", \"clean\", \"hotel\", \"staff\", \"great\", \"everything\", \"cheap\", \"motel\", \"nice\", \"day\", \"good\", \"area\", \"time\", \"manager\", \"wall\", \"price\", \"people\", \"window\", \"mess\", \"sheet\", \"friendly\", \"review\", \"service\", \"los\", \"angele\", \"bad\", \"microwave\", \"comfortable\", \"nasty\", \"hair\", \"problem\", \"new\", \"night\", \"place\", \"shower\", \"nothing\", \"roach\", \"dirty\", \"bed\", \"floor\", \"disgusting\", \"door\", \"picture\", \"sure\", \"filthy\", \"mattress\", \"uncomfortable\", \"bug\", \"lamp\", \"squeaky\", \"charge\", \"second\", \"hate\", \"additional\", \"last\", \"scary\", \"drawer\", \"mistake\", \"horrible\", \"trash\", \"first\", \"toilet\", \"possible\", \"much\", \"person\", \"street\", \"nothing\", \"place\", \"bathroom\", \"thing\", \"office\", \"towel\", \"maid\", \"money\", \"guy\", \"shower\", \"night\"], \"Total\": [21.0, 16.0, 15.0, 12.0, 16.0, 9.0, 7.0, 7.0, 8.0, 7.0, 7.0, 25.0, 23.0, 22.0, 5.0, 20.0, 20.0, 8.0, 19.0, 4.0, 4.0, 4.0, 4.0, 5.0, 6.0, 4.0, 4.0, 4.0, 5.0, 4.0, 22.441337037391648, 23.49176484299643, 20.770984232877826, 20.07832873836913, 19.35105405809926, 15.902397246428743, 13.403269337179733, 11.32767779759151, 11.981952986885842, 9.241087380300964, 10.554727455134982, 8.52770631700196, 7.840318420652531, 7.8002323911788825, 7.140680245175145, 7.121682703888444, 7.742718543293078, 11.943025804283526, 6.430448835386524, 5.7628120587501215, 5.760676150101626, 5.7472260219401115, 5.073742588378589, 5.073094914254196, 5.700616543757898, 5.059827415336912, 5.042832632077233, 5.038475500194202, 5.030575308959626, 4.375492670788331, 4.985888911245903, 14.899291987882801, 25.856015588677916, 10.469995503770278, 16.822537346032632, 15.012622800356135, 16.289050536630235, 21.924687225906244, 12.27548867508891, 7.770049021989242, 9.321868991563703, 7.81709627358225, 7.399258518390365, 7.804990813198214, 4.4326539850485975, 4.436550273613077, 4.672768808768014, 4.227776031931611, 4.233766961731863, 4.238283774788177, 4.480158347715213, 4.257306621389905, 4.257306621389905, 4.723974638029376, 4.26587304630532, 4.269201056660778, 4.500727572699699, 4.732030489757243, 4.737112740858503, 8.807516909038908, 5.953014437329194, 4.418899079633743, 5.179503847630455, 4.717400285494216, 5.325191286777336, 16.822537346032632, 25.856015588677916, 8.705300173868743, 6.084543821356325, 5.837280638391654, 7.791869970431611, 5.641601003325085, 5.65947281676382, 5.762101258515527, 10.469995503770278, 14.899291987882801], \"loglift\": [30.0, 29.0, 28.0, 27.0, 26.0, 25.0, 24.0, 23.0, 22.0, 21.0, 20.0, 19.0, 18.0, 17.0, 16.0, 15.0, 14.0, 13.0, 12.0, 11.0, 10.0, 9.0, 8.0, 7.0, 6.0, 5.0, 4.0, 3.0, 2.0, 1.0, 0.3253, 0.3249, 0.3248, 0.3245, 0.3235, 0.3218, 0.319, 0.3165, 0.3161, 0.3123, 0.3121, 0.3095, 0.3077, 0.3054, 0.3048, 0.3036, 0.3021, 0.3007, 0.3004, 0.2984, 0.2982, 0.2972, 0.2939, 0.2938, 0.2934, 0.2926, 0.2911, 0.2907, 0.2899, 0.287, 0.2857, 0.0486, -0.173, -0.161, -0.8541, 1.2072, 1.1939, 1.1837, 1.1731, 1.158, 1.1505, 1.1492, 1.1464, 1.1106, 1.0822, 1.0809, 1.0778, 1.0747, 1.0726, 1.071, 1.0663, 1.0643, 1.0643, 1.0615, 1.0613, 1.0601, 1.0595, 1.059, 1.0574, 1.0528, 1.0407, 1.0083, 0.9942, 0.9885, 0.9515, 0.8938, 0.3361, 0.7201, 0.8813, 0.8784, 0.6701, 0.8606, 0.8555, 0.8265, 0.3178, -0.1339], \"logprob\": [30.0, 29.0, 28.0, 27.0, 26.0, 25.0, 24.0, 23.0, 22.0, 21.0, 20.0, 19.0, 18.0, 17.0, 16.0, 15.0, 14.0, 13.0, 12.0, 11.0, 10.0, 9.0, 8.0, 7.0, 6.0, 5.0, 4.0, 3.0, 2.0, 1.0, -3.4644999504089355, -3.4191999435424805, -3.54229998588562, -3.5766000747680664, -3.614500045776367, -3.8125, -3.9862000942230225, -4.1570000648498535, -4.10129976272583, -4.364799976348877, -4.232100009918213, -4.44789981842041, -4.53380012512207, -4.541200160980225, -4.630199909210205, -4.633999824523926, -4.5518999099731445, -4.119900226593018, -4.739299774169922, -4.850900173187256, -4.851399898529053, -4.854800224304199, -4.982800006866455, -4.982900142669678, -4.866700172424316, -4.986800193786621, -4.991700172424316, -4.993000030517578, -4.995299816131592, -5.137800216674805, -5.008399963378906, -4.1508002281188965, -3.821199893951416, -4.713200092315674, -4.93209981918335, -2.984600067138672, -2.916300058364868, -2.6294000148773193, -3.2200000286102295, -3.692500114440918, -3.517899990081787, -3.695199966430664, -3.7528998851776123, -3.7353999614715576, -4.329599857330322, -4.329999923706055, -4.281199932098389, -4.384399890899658, -4.3850998878479, -4.3856000900268555, -4.334700107574463, -4.387800216674805, -4.387800216674805, -4.286499977111816, -4.388800144195557, -4.389200210571289, -4.336999893188477, -4.287399768829346, -4.287899971008301, -3.6723999977111816, -4.076099872589111, -4.406599998474121, -4.261899948120117, -4.361000061035156, -4.276800155639648, -3.1842000484466553, -3.3120999336242676, -4.01669979095459, -4.213699817657471, -4.257999897003174, -4.177599906921387, -4.309999942779541, -4.3119001388549805, -4.32289981842041, -4.234399795532227, -4.3333001136779785]}, \"token.table\": {\"Topic\": [1, 2, 1, 1, 1, 1, 2, 1, 2, 1, 2, 1, 2, 1, 1, 1, 1, 1, 2, 1, 2, 1, 2, 1, 2, 1, 1, 2, 1, 2, 1, 2, 1, 1, 1, 1, 2, 1, 1, 2, 1, 2, 1, 1, 2, 1, 2, 1, 1, 2, 1, 1, 2, 1, 1, 1, 2, 1, 2, 1, 1, 2, 1, 1, 1, 1, 2, 1, 2, 1, 2, 1, 1, 2, 1, 2, 1, 2, 1, 2, 1, 1, 1, 1, 2, 1, 2, 1, 2, 1, 1, 1, 2, 1, 2, 1, 1, 2, 1, 2, 1, 2, 1, 1, 2, 1, 2, 1, 2, 1, 2, 1, 1], \"Freq\": [0.23489029307302392, 0.9395611722920957, 0.9855916525336799, 0.9474427494700395, 0.877098110637688, 0.45949018645067013, 0.5743627330633377, 0.09122136974600928, 0.9122136974600928, 0.21400587979520697, 0.8560235191808279, 0.23594455990620367, 0.9437782396248147, 1.0061376125912824, 0.9803337458612071, 0.9915062356412988, 1.0015061829347778, 0.061390932378239955, 0.9208639856735993, 0.12869931671859464, 0.9008952170301625, 0.10727462496040233, 0.8581969996832186, 0.23423586444583275, 0.936943457783331, 0.9818586596344954, 0.12812314888430149, 0.8968620421901103, 0.22707875791273885, 0.7947756526945859, 0.08146315201522981, 0.896094672167528, 1.0411583683159922, 0.9739113623343845, 0.9960988417218488, 0.3470956011132741, 0.6941912022265482, 0.9939221049121022, 0.23489029307302392, 0.9395611722920957, 0.21132577276595294, 0.8453030910638117, 0.9790665006957516, 0.23653097809514623, 0.9461239123805849, 0.21168614919091813, 0.8467445967636725, 0.9854658396451771, 0.3545092959997041, 0.7090185919994082, 1.0203667211942367, 0.22559847968576244, 0.9023939187430497, 1.0047704992562303, 0.988175996842191, 0.22218629851443417, 0.8887451940577367, 0.3533898058624536, 0.7067796117249072, 0.9699126140768438, 0.1930686856150295, 0.772274742460118, 0.9923636623433579, 1.0028302052061908, 0.9710728179732317, 0.7382901153253462, 0.26846913284558044, 0.2972203239708772, 0.7133287775301054, 0.3426252948755022, 0.6852505897510044, 0.9829137706707987, 0.21198116324259209, 0.8479246529703683, 0.12792473893144746, 0.8954731725201321, 0.6188115081043746, 0.3867571925652341, 0.22630071019474024, 0.6789021305842207, 0.9802987614141944, 0.9141827677383176, 1.0415444027163636, 0.06661061250245211, 0.9325485750343295, 0.23441860297884434, 0.9376744119153774, 0.22320639637881973, 0.8928255855152789, 1.043981910071906, 0.9330608412560909, 0.5730661486759361, 0.3820440991172907, 0.23619627840615498, 0.9447851136246199, 1.0110257542230316, 0.187786681481854, 0.751146725927416, 0.13514867706197406, 0.9460407394338184, 0.3287017167959477, 0.6574034335918953, 0.9381186103993926, 0.16798212242345034, 0.8399106121172517, 0.38501669193458354, 0.5133555892461114, 0.21109905013972094, 0.8443962005588838, 0.22540035350159826, 0.901601414006393, 1.02561046886847, 0.9040752238196185], \"Term\": [\"additional\", \"additional\", \"angele\", \"area\", \"bad\", \"bathroom\", \"bathroom\", \"bed\", \"bed\", \"bug\", \"bug\", \"charge\", \"charge\", \"cheap\", \"clean\", \"comfortable\", \"day\", \"dirty\", \"dirty\", \"disgusting\", \"disgusting\", \"door\", \"door\", \"drawer\", \"drawer\", \"everything\", \"filthy\", \"filthy\", \"first\", \"first\", \"floor\", \"floor\", \"friendly\", \"good\", \"great\", \"guy\", \"guy\", \"hair\", \"hate\", \"hate\", \"horrible\", \"horrible\", \"hotel\", \"lamp\", \"lamp\", \"last\", \"last\", \"los\", \"maid\", \"maid\", \"manager\", \"mattress\", \"mattress\", \"mess\", \"microwave\", \"mistake\", \"mistake\", \"money\", \"money\", \"motel\", \"much\", \"much\", \"nasty\", \"new\", \"nice\", \"night\", \"night\", \"nothing\", \"nothing\", \"office\", \"office\", \"people\", \"person\", \"person\", \"picture\", \"picture\", \"place\", \"place\", \"possible\", \"possible\", \"price\", \"problem\", \"review\", \"roach\", \"roach\", \"scary\", \"scary\", \"second\", \"second\", \"service\", \"sheet\", \"shower\", \"shower\", \"squeaky\", \"squeaky\", \"staff\", \"street\", \"street\", \"sure\", \"sure\", \"thing\", \"thing\", \"time\", \"toilet\", \"toilet\", \"towel\", \"towel\", \"trash\", \"trash\", \"uncomfortable\", \"uncomfortable\", \"wall\", \"window\"]}, \"R\": 30, \"lambda.step\": 0.01, \"plot.opts\": {\"xlab\": \"PC1\", \"ylab\": \"PC2\"}, \"topic.order\": [1, 2]};\n",
       "\n",
       "function LDAvis_load_lib(url, callback){\n",
       "  var s = document.createElement('script');\n",
       "  s.src = url;\n",
       "  s.async = true;\n",
       "  s.onreadystatechange = s.onload = callback;\n",
       "  s.onerror = function(){console.warn(\"failed to load library \" + url);};\n",
       "  document.getElementsByTagName(\"head\")[0].appendChild(s);\n",
       "}\n",
       "\n",
       "if(typeof(LDAvis) !== \"undefined\"){\n",
       "   // already loaded: just create the visualization\n",
       "   !function(LDAvis){\n",
       "       new LDAvis(\"#\" + \"ldavis_el151451123423002565703978373\", ldavis_el151451123423002565703978373_data);\n",
       "   }(LDAvis);\n",
       "}else if(typeof define === \"function\" && define.amd){\n",
       "   // require.js is available: use it to load d3/LDAvis\n",
       "   require.config({paths: {d3: \"https://cdnjs.cloudflare.com/ajax/libs/d3/3.5.5/d3.min\"}});\n",
       "   require([\"d3\"], function(d3){\n",
       "      window.d3 = d3;\n",
       "      LDAvis_load_lib(\"https://cdn.rawgit.com/bmabey/pyLDAvis/files/ldavis.v1.0.0.js\", function(){\n",
       "        new LDAvis(\"#\" + \"ldavis_el151451123423002565703978373\", ldavis_el151451123423002565703978373_data);\n",
       "      });\n",
       "    });\n",
       "}else{\n",
       "    // require.js not available: dynamically load d3 & LDAvis\n",
       "    LDAvis_load_lib(\"https://cdnjs.cloudflare.com/ajax/libs/d3/3.5.5/d3.min.js\", function(){\n",
       "         LDAvis_load_lib(\"https://cdn.rawgit.com/bmabey/pyLDAvis/files/ldavis.v1.0.0.js\", function(){\n",
       "                 new LDAvis(\"#\" + \"ldavis_el151451123423002565703978373\", ldavis_el151451123423002565703978373_data);\n",
       "            })\n",
       "         });\n",
       "}\n",
       "</script>"
      ],
      "text/plain": [
       "PreparedData(topic_coordinates=            Freq  cluster  topics         x    y\n",
       "topic                                           \n",
       "0      71.550649        1       1  0.180266  0.0\n",
       "1      28.449351        1       2 -0.180266  0.0, topic_info=     Category       Freq           Term      Total  loglift  logprob\n",
       "term                                                                \n",
       "7     Default  21.000000            bed  21.000000  30.0000  30.0000\n",
       "6     Default  16.000000          dirty  16.000000  29.0000  29.0000\n",
       "111   Default  15.000000          roach  15.000000  28.0000  28.0000\n",
       "15    Default  12.000000          floor  12.000000  27.0000  27.0000\n",
       "77    Default  16.000000        nothing  16.000000  26.0000  26.0000\n",
       "86    Default   9.000000           door   9.000000  25.0000  25.0000\n",
       "85    Default   7.000000     disgusting   7.000000  24.0000  24.0000\n",
       "157   Default   7.000000        picture   7.000000  23.0000  23.0000\n",
       "65    Default   8.000000          first   8.000000  22.0000  22.0000\n",
       "199   Default   7.000000           sure   7.000000  21.0000  21.0000\n",
       "166   Default   7.000000         filthy   7.000000  20.0000  20.0000\n",
       "127   Default  25.000000          place  25.000000  19.0000  19.0000\n",
       "21    Default  23.000000          hotel  23.000000  18.0000  18.0000\n",
       "11    Default  22.000000          clean  22.000000  17.0000  17.0000\n",
       "55    Default   5.000000         toilet   5.000000  16.0000  16.0000\n",
       "40    Default  20.000000          staff  20.000000  15.0000  15.0000\n",
       "18    Default  20.000000          great  20.000000  14.0000  14.0000\n",
       "58    Default   8.000000       bathroom   8.000000  13.0000  13.0000\n",
       "0     Default  19.000000     everything  19.000000  12.0000  12.0000\n",
       "79    Default   4.000000            bug   4.000000  11.0000  11.0000\n",
       "82    Default   4.000000           last   4.000000  10.0000  10.0000\n",
       "107   Default   4.000000       horrible   4.000000   9.0000   9.0000\n",
       "141   Default   4.000000          trash   4.000000   8.0000   8.0000\n",
       "98    Default   5.000000           much   5.000000   7.0000   7.0000\n",
       "54    Default   6.000000          thing   6.000000   6.0000   6.0000\n",
       "116   Default   4.000000       mattress   4.000000   5.0000   5.0000\n",
       "78    Default   4.000000  uncomfortable   4.000000   4.0000   4.0000\n",
       "90    Default   4.000000         second   4.000000   3.0000   3.0000\n",
       "41    Default   5.000000         street   5.000000   2.0000   2.0000\n",
       "67    Default   4.000000        mistake   4.000000   1.0000   1.0000\n",
       "...       ...        ...            ...        ...      ...      ...\n",
       "79     Topic2   3.905806            bug   4.672769   1.0778  -4.2812\n",
       "112    Topic2   3.522967           lamp   4.227776   1.0747  -4.3844\n",
       "76     Topic2   3.520540        squeaky   4.233767   1.0726  -4.3851\n",
       "174    Topic2   3.518709         charge   4.238284   1.0710  -4.3856\n",
       "90     Topic2   3.702286         second   4.480158   1.0663  -4.3347\n",
       "167    Topic2   3.511007           hate   4.257307   1.0643  -4.3878\n",
       "163    Topic2   3.511007     additional   4.257307   1.0643  -4.3878\n",
       "82     Topic2   3.885078           last   4.723975   1.0615  -4.2865\n",
       "123    Topic2   3.507531          scary   4.265873   1.0613  -4.3888\n",
       "153    Topic2   3.506194         drawer   4.269201   1.0601  -4.3892\n",
       "67     Topic2   3.693960        mistake   4.500728   1.0595  -4.3370\n",
       "107    Topic2   3.881815       horrible   4.732030   1.0590  -4.2874\n",
       "141    Topic2   3.879759          trash   4.737113   1.0574  -4.2879\n",
       "65     Topic2   7.180173          first   8.807517   1.0528  -3.6724\n",
       "55     Topic2   4.795017         toilet   5.953014   1.0407  -4.0761\n",
       "34     Topic2   3.445595       possible   4.418899   1.0083  -4.4066\n",
       "98     Topic2   3.982178           much   5.179504   0.9942  -4.2619\n",
       "33     Topic2   3.606254         person   4.717400   0.9885  -4.3610\n",
       "41     Topic2   3.923215         street   5.325191   0.9515  -4.2768\n",
       "77     Topic2  11.698869        nothing  16.822537   0.8938  -3.1842\n",
       "127    Topic2  10.294721          place  25.856016   0.3361  -3.3121\n",
       "58     Topic2   5.088488       bathroom   8.705300   0.7201  -4.0167\n",
       "54     Topic2   4.178838          thing   6.084544   0.8813  -4.2137\n",
       "156    Topic2   3.997439         office   5.837281   0.8784  -4.2580\n",
       "56     Topic2   4.332280          towel   7.791870   0.6701  -4.1776\n",
       "48     Topic2   3.795160           maid   5.641601   0.8606  -4.3100\n",
       "1      Topic2   3.787927          money   5.659473   0.8555  -4.3119\n",
       "120    Topic2   3.746391            guy   5.762101   0.8265  -4.3229\n",
       "2      Topic2   4.092832         shower  10.469996   0.3178  -4.2344\n",
       "30     Topic2   3.707611          night  14.899292  -0.1339  -4.3333\n",
       "\n",
       "[106 rows x 6 columns], token_table=      Topic      Freq           Term\n",
       "term                                \n",
       "163       1  0.234890     additional\n",
       "163       2  0.939561     additional\n",
       "91        1  0.985592         angele\n",
       "57        1  0.947443           area\n",
       "131       1  0.877098            bad\n",
       "58        1  0.459490       bathroom\n",
       "58        2  0.574363       bathroom\n",
       "7         1  0.091221            bed\n",
       "7         2  0.912214            bed\n",
       "79        1  0.214006            bug\n",
       "79        2  0.856024            bug\n",
       "174       1  0.235945         charge\n",
       "174       2  0.943778         charge\n",
       "5         1  1.006138          cheap\n",
       "11        1  0.980334          clean\n",
       "59        1  0.991506    comfortable\n",
       "12        1  1.001506            day\n",
       "6         1  0.061391          dirty\n",
       "6         2  0.920864          dirty\n",
       "85        1  0.128699     disgusting\n",
       "85        2  0.900895     disgusting\n",
       "86        1  0.107275           door\n",
       "86        2  0.858197           door\n",
       "153       1  0.234236         drawer\n",
       "153       2  0.936943         drawer\n",
       "0         1  0.981859     everything\n",
       "166       1  0.128123         filthy\n",
       "166       2  0.896862         filthy\n",
       "65        1  0.227079          first\n",
       "65        2  0.794776          first\n",
       "...     ...       ...            ...\n",
       "111       1  0.066611          roach\n",
       "111       2  0.932549          roach\n",
       "123       1  0.234419          scary\n",
       "123       2  0.937674          scary\n",
       "90        1  0.223206         second\n",
       "90        2  0.892826         second\n",
       "75        1  1.043982        service\n",
       "53        1  0.933061          sheet\n",
       "2         1  0.573066         shower\n",
       "2         2  0.382044         shower\n",
       "76        1  0.236196        squeaky\n",
       "76        2  0.944785        squeaky\n",
       "40        1  1.011026          staff\n",
       "41        1  0.187787         street\n",
       "41        2  0.751147         street\n",
       "199       1  0.135149           sure\n",
       "199       2  0.946041           sure\n",
       "54        1  0.328702          thing\n",
       "54        2  0.657403          thing\n",
       "3         1  0.938119           time\n",
       "55        1  0.167982         toilet\n",
       "55        2  0.839911         toilet\n",
       "56        1  0.385017          towel\n",
       "56        2  0.513356          towel\n",
       "141       1  0.211099          trash\n",
       "141       2  0.844396          trash\n",
       "78        1  0.225400  uncomfortable\n",
       "78        2  0.901601  uncomfortable\n",
       "4         1  1.025610           wall\n",
       "43        1  0.904075         window\n",
       "\n",
       "[113 rows x 3 columns], R=30, lambda_step=0.01, plot_opts={'xlab': 'PC1', 'ylab': 'PC2'}, topic_order=[1, 2])"
      ]
     },
     "execution_count": 324,
     "metadata": {},
     "output_type": "execute_result"
    }
   ],
   "source": [
    "# Visualize the topics\n",
    "pyLDAvis.enable_notebook()\n",
    "vis = pyLDAvis.gensim.prepare(lda_model, doc_term_matrix, dictionary)\n",
    "vis"
   ]
  },
  {
   "cell_type": "code",
   "execution_count": 325,
   "metadata": {},
   "outputs": [],
   "source": [
    "name_dict = {   0: \"Happy Customer\", # 1 on the chart\n",
    "                1: \"Customer complaints\",    # 2 on the chart\n",
    "            }\n",
    "\n",
    "scored = lda_model[doc_term_matrix]\n",
    "#topic_prob = map(lambda x: max(x, key=lambda item: item[1]), scored)\n",
    "#scored_reviews = pd.DataFrame(list(zip(reviews_2, topic_prob)), columns=['Review', 'Main_Topic'])\n",
    "#scored_reviews[['Topic', 'Prob']] = scored_reviews['Main_Topic'].apply(pd.Series)\n",
    "#scored_reviews['Topic Name'] = scored_reviews['Topic'].map(name_dict)"
   ]
  },
  {
   "cell_type": "code",
   "execution_count": 326,
   "metadata": {
    "collapsed": true
   },
   "outputs": [],
   "source": [
    "topic_prob = map(lambda x: max(x, key=lambda item: item[1]), scored)\n",
    "scored_reviews = pd.DataFrame(list(zip(reviews_2, topic_prob)), columns=['Review', 'Main_Topic'])"
   ]
  },
  {
   "cell_type": "code",
   "execution_count": 327,
   "metadata": {},
   "outputs": [
    {
     "data": {
      "text/html": [
       "<div>\n",
       "<style>\n",
       "    .dataframe thead tr:only-child th {\n",
       "        text-align: right;\n",
       "    }\n",
       "\n",
       "    .dataframe thead th {\n",
       "        text-align: left;\n",
       "    }\n",
       "\n",
       "    .dataframe tbody tr th {\n",
       "        vertical-align: top;\n",
       "    }\n",
       "</style>\n",
       "<table border=\"1\" class=\"dataframe\">\n",
       "  <thead>\n",
       "    <tr style=\"text-align: right;\">\n",
       "      <th></th>\n",
       "      <th>Review</th>\n",
       "      <th>Main_Topic</th>\n",
       "    </tr>\n",
       "  </thead>\n",
       "  <tbody>\n",
       "    <tr>\n",
       "      <th>0</th>\n",
       "      <td>[late, extra, fee]</td>\n",
       "      <td>(0, 0.5)</td>\n",
       "    </tr>\n",
       "    <tr>\n",
       "      <th>1</th>\n",
       "      <td>[everything, worth, money]</td>\n",
       "      <td>(0, 0.54825324)</td>\n",
       "    </tr>\n",
       "    <tr>\n",
       "      <th>2</th>\n",
       "      <td>[restroom, mole, shower, curtin, pubis, shower...</td>\n",
       "      <td>(0, 0.836654)</td>\n",
       "    </tr>\n",
       "    <tr>\n",
       "      <th>3</th>\n",
       "      <td>[cheap]</td>\n",
       "      <td>(0, 0.74932367)</td>\n",
       "    </tr>\n",
       "    <tr>\n",
       "      <th>4</th>\n",
       "      <td>[dirty]</td>\n",
       "      <td>(1, 0.7492329)</td>\n",
       "    </tr>\n",
       "    <tr>\n",
       "      <th>5</th>\n",
       "      <td>[actaul, nice, hotel, price, manager, staff, h...</td>\n",
       "      <td>(0, 0.9186726)</td>\n",
       "    </tr>\n",
       "    <tr>\n",
       "      <th>6</th>\n",
       "      <td>[maid, sad, day, thing, day, time, towel, good...</td>\n",
       "      <td>(0, 0.7763421)</td>\n",
       "    </tr>\n",
       "    <tr>\n",
       "      <th>7</th>\n",
       "      <td>[]</td>\n",
       "      <td>(0, 0.5)</td>\n",
       "    </tr>\n",
       "    <tr>\n",
       "      <th>8</th>\n",
       "      <td>[]</td>\n",
       "      <td>(0, 0.5)</td>\n",
       "    </tr>\n",
       "    <tr>\n",
       "      <th>9</th>\n",
       "      <td>[price]</td>\n",
       "      <td>(0, 0.74824417)</td>\n",
       "    </tr>\n",
       "  </tbody>\n",
       "</table>\n",
       "</div>"
      ],
      "text/plain": [
       "                                              Review       Main_Topic\n",
       "0                                 [late, extra, fee]         (0, 0.5)\n",
       "1                         [everything, worth, money]  (0, 0.54825324)\n",
       "2  [restroom, mole, shower, curtin, pubis, shower...    (0, 0.836654)\n",
       "3                                            [cheap]  (0, 0.74932367)\n",
       "4                                            [dirty]   (1, 0.7492329)\n",
       "5  [actaul, nice, hotel, price, manager, staff, h...   (0, 0.9186726)\n",
       "6  [maid, sad, day, thing, day, time, towel, good...   (0, 0.7763421)\n",
       "7                                                 []         (0, 0.5)\n",
       "8                                                 []         (0, 0.5)\n",
       "9                                            [price]  (0, 0.74824417)"
      ]
     },
     "execution_count": 327,
     "metadata": {},
     "output_type": "execute_result"
    }
   ],
   "source": [
    "scored_reviews[:10]"
   ]
  },
  {
   "cell_type": "code",
   "execution_count": 328,
   "metadata": {},
   "outputs": [
    {
     "data": {
      "text/plain": [
       "172"
      ]
     },
     "execution_count": 328,
     "metadata": {},
     "output_type": "execute_result"
    }
   ],
   "source": [
    "len(scored_reviews)"
   ]
  },
  {
   "cell_type": "code",
   "execution_count": 329,
   "metadata": {},
   "outputs": [],
   "source": [
    "scored_reviews[['Topic', 'Prob']] = scored_reviews['Main_Topic'].apply(pd.Series)"
   ]
  },
  {
   "cell_type": "code",
   "execution_count": 330,
   "metadata": {},
   "outputs": [
    {
     "data": {
      "text/html": [
       "<div>\n",
       "<style>\n",
       "    .dataframe thead tr:only-child th {\n",
       "        text-align: right;\n",
       "    }\n",
       "\n",
       "    .dataframe thead th {\n",
       "        text-align: left;\n",
       "    }\n",
       "\n",
       "    .dataframe tbody tr th {\n",
       "        vertical-align: top;\n",
       "    }\n",
       "</style>\n",
       "<table border=\"1\" class=\"dataframe\">\n",
       "  <thead>\n",
       "    <tr style=\"text-align: right;\">\n",
       "      <th></th>\n",
       "      <th>Review</th>\n",
       "      <th>Main_Topic</th>\n",
       "      <th>Topic</th>\n",
       "      <th>Prob</th>\n",
       "    </tr>\n",
       "  </thead>\n",
       "  <tbody>\n",
       "    <tr>\n",
       "      <th>0</th>\n",
       "      <td>[late, extra, fee]</td>\n",
       "      <td>(0, 0.5)</td>\n",
       "      <td>0.0</td>\n",
       "      <td>0.500000</td>\n",
       "    </tr>\n",
       "    <tr>\n",
       "      <th>1</th>\n",
       "      <td>[everything, worth, money]</td>\n",
       "      <td>(0, 0.54825324)</td>\n",
       "      <td>0.0</td>\n",
       "      <td>0.548253</td>\n",
       "    </tr>\n",
       "    <tr>\n",
       "      <th>2</th>\n",
       "      <td>[restroom, mole, shower, curtin, pubis, shower...</td>\n",
       "      <td>(0, 0.836654)</td>\n",
       "      <td>0.0</td>\n",
       "      <td>0.836654</td>\n",
       "    </tr>\n",
       "    <tr>\n",
       "      <th>3</th>\n",
       "      <td>[cheap]</td>\n",
       "      <td>(0, 0.74932367)</td>\n",
       "      <td>0.0</td>\n",
       "      <td>0.749324</td>\n",
       "    </tr>\n",
       "    <tr>\n",
       "      <th>4</th>\n",
       "      <td>[dirty]</td>\n",
       "      <td>(1, 0.7492329)</td>\n",
       "      <td>1.0</td>\n",
       "      <td>0.749233</td>\n",
       "    </tr>\n",
       "    <tr>\n",
       "      <th>5</th>\n",
       "      <td>[actaul, nice, hotel, price, manager, staff, h...</td>\n",
       "      <td>(0, 0.9186726)</td>\n",
       "      <td>0.0</td>\n",
       "      <td>0.918673</td>\n",
       "    </tr>\n",
       "    <tr>\n",
       "      <th>6</th>\n",
       "      <td>[maid, sad, day, thing, day, time, towel, good...</td>\n",
       "      <td>(0, 0.7763421)</td>\n",
       "      <td>0.0</td>\n",
       "      <td>0.776342</td>\n",
       "    </tr>\n",
       "    <tr>\n",
       "      <th>7</th>\n",
       "      <td>[]</td>\n",
       "      <td>(0, 0.5)</td>\n",
       "      <td>0.0</td>\n",
       "      <td>0.500000</td>\n",
       "    </tr>\n",
       "    <tr>\n",
       "      <th>8</th>\n",
       "      <td>[]</td>\n",
       "      <td>(0, 0.5)</td>\n",
       "      <td>0.0</td>\n",
       "      <td>0.500000</td>\n",
       "    </tr>\n",
       "    <tr>\n",
       "      <th>9</th>\n",
       "      <td>[price]</td>\n",
       "      <td>(0, 0.74824417)</td>\n",
       "      <td>0.0</td>\n",
       "      <td>0.748244</td>\n",
       "    </tr>\n",
       "  </tbody>\n",
       "</table>\n",
       "</div>"
      ],
      "text/plain": [
       "                                              Review       Main_Topic  Topic  \\\n",
       "0                                 [late, extra, fee]         (0, 0.5)    0.0   \n",
       "1                         [everything, worth, money]  (0, 0.54825324)    0.0   \n",
       "2  [restroom, mole, shower, curtin, pubis, shower...    (0, 0.836654)    0.0   \n",
       "3                                            [cheap]  (0, 0.74932367)    0.0   \n",
       "4                                            [dirty]   (1, 0.7492329)    1.0   \n",
       "5  [actaul, nice, hotel, price, manager, staff, h...   (0, 0.9186726)    0.0   \n",
       "6  [maid, sad, day, thing, day, time, towel, good...   (0, 0.7763421)    0.0   \n",
       "7                                                 []         (0, 0.5)    0.0   \n",
       "8                                                 []         (0, 0.5)    0.0   \n",
       "9                                            [price]  (0, 0.74824417)    0.0   \n",
       "\n",
       "       Prob  \n",
       "0  0.500000  \n",
       "1  0.548253  \n",
       "2  0.836654  \n",
       "3  0.749324  \n",
       "4  0.749233  \n",
       "5  0.918673  \n",
       "6  0.776342  \n",
       "7  0.500000  \n",
       "8  0.500000  \n",
       "9  0.748244  "
      ]
     },
     "execution_count": 330,
     "metadata": {},
     "output_type": "execute_result"
    }
   ],
   "source": [
    "scored_reviews[:10]"
   ]
  },
  {
   "cell_type": "code",
   "execution_count": 331,
   "metadata": {
    "collapsed": true
   },
   "outputs": [],
   "source": [
    "scored_reviews['Topic Name'] = scored_reviews['Topic'].map(name_dict)"
   ]
  },
  {
   "cell_type": "code",
   "execution_count": 332,
   "metadata": {},
   "outputs": [
    {
     "data": {
      "image/png": "[encoded data removed]",
      "text/plain": [
       "<matplotlib.figure.Figure at 0x1a233dfdd8>"
      ]
     },
     "metadata": {},
     "output_type": "display_data"
    }
   ],
   "source": [
    "df_2 = scored_reviews['Topic Name'].value_counts(normalize=True)\n",
    "\n",
    "plt.rcParams['axes.facecolor'] = 'white'\n",
    "ax = df_2.plot(kind='barh', figsize=[8,6], title='Reviews Per Category', color='#33A5D3')\n",
    "pos = df_2.index.get_loc('Customer Complains')\n",
    "ax.patches[pos].set_facecolor('#aa3333')"
   ]
  },
  {
   "cell_type": "code",
   "execution_count": 333,
   "metadata": {},
   "outputs": [
    {
     "data": {
      "text/plain": [
       "Happy Customer        0.668605\n",
       "Customer Complains    0.331395\n",
       "Name: Topic Name, dtype: float64"
      ]
     },
     "execution_count": 333,
     "metadata": {},
     "output_type": "execute_result"
    }
   ],
   "source": [
    "df_2"
   ]
  },
  {
   "cell_type": "markdown",
   "metadata": {},
   "source": [
    "# The goal of this analysis is twofold:\n",
    "\n",
    "1. Reduce number of human hours spent on review reading and categorizing\n",
    "2. Increase customer retention by addressing concernes in a timely manner\n",
    "\n",
    "# Saving human hours of reading through reviews will help to improve other customer satisfaction metrics such as:\n",
    "\n",
    "1. Response time\n",
    "2. Number of review replies and complaints addressed\n",
    "3. Customer likelihood to recommend (net promoter score)\n",
    "4. Customer ratings\n",
    "5. Customer retention"
   ]
  },
  {
   "cell_type": "markdown",
   "metadata": {},
   "source": [
    "# Conclusion:\n",
    "\n",
    "- Now that we have trained the model and labeled review categories, the final and perhaps most important step is to utilize model results. In     this particular use case, one could consider:\n",
    "\n",
    "- Feeding new review summaries along with labels based on found topics into a BI tool to be presented to customer service representatives\n",
    "  Problematic reviews can be filtered and brought to attention\n",
    "\n",
    "- Topic categories can be tracked through time to monitor trends in customer feedback\n",
    "\n",
    "- This application of topic modeling is meant to show how unsupervised models can save time by summarizing text into managable categories.       Every data set is different, and often topic modeling is just the first step in making sense of text data. \n",
    "\n",
    "- However, even with a simple model as demonstrated here, one can start gaining valuable insights about customers by quickly summarizing and     visualizing reviews."
   ]
  },
  {
   "cell_type": "code",
   "execution_count": null,
   "metadata": {
    "collapsed": true
   },
   "outputs": [],
   "source": []
  }
 ],
 "metadata": {
  "kernelspec": {
   "display_name": "Python 3",
   "language": "python",
   "name": "python3"
  },
  "language_info": {
   "codemirror_mode": {
    "name": "ipython",
    "version": 3
   },
   "file_extension": ".py",
   "mimetype": "text/x-python",
   "name": "python",
   "nbconvert_exporter": "python",
   "pygments_lexer": "ipython3",
   "version": "3.6.3"
  }
 },
 "nbformat": 4,
 "nbformat_minor": 2
}
